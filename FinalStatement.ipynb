{
 "cells": [
  {
   "cell_type": "code",
   "execution_count": 153,
   "metadata": {},
   "outputs": [
    {
     "name": "stdout",
     "output_type": "stream",
     "text": [
      "0.69004148235\n",
      "Average time:  0:01:27.911603\n"
     ]
    }
   ],
   "source": [
    "import pandas\n",
    "import numpy as np\n",
    "import datetime\n",
    "from sklearn.ensemble import GradientBoostingClassifier\n",
    "from sklearn.model_selection import KFold, cross_val_score\n",
    "from sklearn.preprocessing import StandardScaler\n",
    "\n",
    "start = datetime.datetime.now()\n",
    "\n",
    "data = pandas.read_csv('features.csv')\n",
    "\n",
    "y = data['radiant_win']\n",
    "X = data.drop([\n",
    "    'start_time',\n",
    "    'radiant_win',\n",
    "    'duration',\n",
    "    'tower_status_radiant',\n",
    "    'tower_status_dire',\n",
    "    'barracks_status_radiant',\n",
    "    'barracks_status_dire'], axis=1)\n",
    "    \n",
    "n_estimators = 30\n",
    "    \n",
    "X = X.fillna(0)\n",
    "X = np.array(X)\n",
    "y = np.array(y)\n",
    "\n",
    "sc = StandardScaler()\n",
    "#X_train_scaled = sc.fit_transform(X)\n",
    "    \n",
    "kf = KFold(n_splits=5, shuffle=True)\n",
    "clf = GradientBoostingClassifier(n_estimators=n_estimators)\n",
    "print(np.mean(cross_val_score(clf, X, y, cv=kf, scoring='roc_auc')))\n",
    "        \n",
    "print('Average time: ', datetime.datetime.now() - start)\n"
   ]
  },
  {
   "cell_type": "markdown",
   "metadata": {
    "collapsed": true
   },
   "source": [
    "Точности при количесве деревьев 10, 20, 30, 40, 50, 100 : \n",
    "    0.663568394879\n",
    "    0.682672314973\n",
    "    0.689832076468\n",
    "    0.694402695613\n",
    "    0.697155505421\n",
    "    0.706305863469\n",
    "    Average time:  0:16:24.743392"
   ]
  },
  {
   "cell_type": "code",
   "execution_count": 149,
   "metadata": {},
   "outputs": [],
   "source": [
    "X_test = np.array(pandas.read_csv('features_test.csv').drop(['start_time'], axis=1).fillna(0))\n",
    "clf.fit(X, y)\n",
    "pred = clf.predict_proba(X_test)\n",
    "#print(X_scaled.shape, X_test.shape)"
   ]
  },
  {
   "cell_type": "code",
   "execution_count": 150,
   "metadata": {},
   "outputs": [
    {
     "name": "stdout",
     "output_type": "stream",
     "text": [
      "[[ 0.51113857  0.48886143]\n",
      " [ 0.41582562  0.58417438]\n",
      " [ 0.52601     0.47399   ]\n",
      " [ 0.32209347  0.67790653]\n",
      " [ 0.64376052  0.35623948]\n",
      " [ 0.4448283   0.5551717 ]\n",
      " [ 0.45130461  0.54869539]\n",
      " [ 0.40558952  0.59441048]\n",
      " [ 0.67883451  0.32116549]\n",
      " [ 0.4754733   0.5245267 ]\n",
      " [ 0.46760226  0.53239774]\n",
      " [ 0.35672798  0.64327202]\n",
      " [ 0.65226391  0.34773609]\n",
      " [ 0.42559617  0.57440383]\n",
      " [ 0.31034296  0.68965704]\n",
      " [ 0.57823788  0.42176212]\n",
      " [ 0.62887584  0.37112416]\n",
      " [ 0.46982781  0.53017219]\n",
      " [ 0.47753114  0.52246886]\n",
      " [ 0.49822171  0.50177829]\n",
      " [ 0.35620379  0.64379621]\n",
      " [ 0.32072904  0.67927096]\n",
      " [ 0.40014056  0.59985944]\n",
      " [ 0.33969639  0.66030361]\n",
      " [ 0.33104482  0.66895518]\n",
      " [ 0.43060513  0.56939487]\n",
      " [ 0.38166003  0.61833997]\n",
      " [ 0.60598685  0.39401315]\n",
      " [ 0.72273404  0.27726596]\n",
      " [ 0.32556748  0.67443252]]\n"
     ]
    }
   ],
   "source": [
    "print(pred[:30])"
   ]
  },
  {
   "cell_type": "code",
   "execution_count": 144,
   "metadata": {},
   "outputs": [
    {
     "name": "stdout",
     "output_type": "stream",
     "text": [
      "(97230, 92)\n"
     ]
    }
   ],
   "source": [
    "X_train_new = data.drop([\n",
    "    'start_time',\n",
    "    'radiant_win',   \n",
    "    'duration',\n",
    "    'tower_status_radiant',\n",
    "    'tower_status_dire',\n",
    "    'barracks_status_radiant',\n",
    "    'barracks_status_dire'], axis=1)\n",
    "\n",
    "X_train_new = X_train_new.fillna(0)\n",
    "\n",
    "N_heroes = 113\n",
    "X_pick = np.zeros((X_train_new.shape[0], N_heroes))\n",
    "\n",
    "\n",
    "for i, match_id in enumerate(data.index):\n",
    "    for p in range(5):\n",
    "        X_pick[i, X_train_new.loc[match_id, 'r%d_hero' % (p+1)]-1] = 1\n",
    "        X_pick[i, X_train_new.loc[match_id, 'd%d_hero' % (p+1)]-1] = -1\n",
    "\n",
    "for t in range(5):\n",
    "    X_train_new = X_train_new.drop([\n",
    "        'r%d_hero' % (t + 1),\n",
    "        'd%d_hero' % (t + 1)\n",
    "    ], axis = 1)\n",
    "X_train_new = np.array(X_train_new)\n",
    "print(X_train_new.shape)"
   ]
  },
  {
   "cell_type": "code",
   "execution_count": 145,
   "metadata": {},
   "outputs": [],
   "source": [
    "X_train_new = np.hstack((X_train_new, X_pick))\n",
    "#X_train_new = sc.fit_transform(X_train_new)"
   ]
  },
  {
   "cell_type": "code",
   "execution_count": 146,
   "metadata": {},
   "outputs": [
    {
     "data": {
      "text/plain": [
       "\"\\nwhile C <= 10:\\n    clf = LogisticRegression(C=C)\\n    res = np.mean(cross_val_score(clf, X_train_new, y, cv=kf, scoring='roc_auc'))\\n    if res > max_acc:\\n        max_acc = res\\n        good_c = C\\n    C += 0.2\\n\""
      ]
     },
     "execution_count": 146,
     "metadata": {},
     "output_type": "execute_result"
    }
   ],
   "source": [
    "from sklearn.linear_model import LogisticRegression\n",
    "\n",
    "max_acc = 0\n",
    "good_c = 2.2\n",
    "C = 1\n",
    "\"\"\"\n",
    "while C <= 10:\n",
    "    clf_log = LogisticRegression(C=C)\n",
    "    res = np.mean(cross_val_score(clf_log, X_train_new, y, cv=kf, scoring='roc_auc'))\n",
    "    if res > max_acc:\n",
    "        max_acc = res\n",
    "        good_c = C\n",
    "    C += 0.2\n",
    "\"\"\""
   ]
  },
  {
   "cell_type": "markdown",
   "metadata": {},
   "source": [
    "Наилушая точность достигается при C = 2.2"
   ]
  },
  {
   "cell_type": "code",
   "execution_count": 147,
   "metadata": {},
   "outputs": [
    {
     "name": "stdout",
     "output_type": "stream",
     "text": [
      "(17177, 205)\n",
      "Average time:  0:00:45.073735\n"
     ]
    }
   ],
   "source": [
    "start = datetime.datetime.now()\n",
    "\n",
    "#print(np.mean(cross_val_score(clf, X_train_new, y, cv=kf, scoring='roc_auc')))\n",
    "clf_log = LogisticRegression(C=good_c)\n",
    "clf_log.fit(X_train_new, y)\n",
    "\n",
    "X_test_new = pandas.read_csv('features_test.csv').drop(['start_time'], axis=1).fillna(0)\n",
    "\n",
    "X_pick_log = np.zeros((X_test_new.shape[0], N_heroes))\n",
    "\n",
    "for i, match_id in enumerate(X_test_new.index):\n",
    "    for p in range(5):\n",
    "        X_pick_log[i, X_test_new.loc[match_id, 'r%d_hero' % (p+1)]-1] = 1\n",
    "        X_pick_log[i, X_test_new.loc[match_id, 'd%d_hero' % (p+1)]-1] = -1\n",
    "\n",
    "for t in range(5):\n",
    "    X_test_new = X_test_new.drop([\n",
    "        'r%d_hero' % (t + 1),\n",
    "        'd%d_hero' % (t + 1)\n",
    "    ], axis = 1)\n",
    "\n",
    "\n",
    "X_test_new_res = np.hstack((X_test_new, X_pick_log))\n",
    "print(X_test_new_res.shape)    \n",
    "pred_log = clf_log.predict_proba(X_test_new_res)\n",
    "\n",
    "print('Average time: ', datetime.datetime.now() - start)"
   ]
  },
  {
   "cell_type": "code",
   "execution_count": 157,
   "metadata": {},
   "outputs": [
    {
     "name": "stdout",
     "output_type": "stream",
     "text": [
      "0.716810413633\n"
     ]
    }
   ],
   "source": [
    "#print(np.mean(cross_val_score(clf_log, X_train_new, y, cv=kf, scoring='roc_auc')))\n",
    "X_train_new_1 = data.drop([\n",
    "    'start_time',\n",
    "    'radiant_win',   \n",
    "    'duration',\n",
    "    'tower_status_radiant',\n",
    "    'tower_status_dire',\n",
    "    'barracks_status_radiant',\n",
    "    'barracks_status_dire'], axis=1).fillna(0)\n",
    "\n",
    "for t in range(5):\n",
    "    X_train_new1 = X_train_new_1.drop([\n",
    "        'r%d_hero' % (t + 1),\n",
    "        'd%d_hero' % (t + 1)\n",
    "    ], axis = 1)\n",
    "\n",
    "clf_log_1 = LogisticRegression(C=good_c)\n",
    "print(np.mean(cross_val_score(clf_log_1, np.array(X_train_new_1), y, cv=kf, scoring='roc_auc')))"
   ]
  },
  {
   "cell_type": "code",
   "execution_count": 160,
   "metadata": {},
   "outputs": [
    {
     "name": "stdout",
     "output_type": "stream",
     "text": [
      "Minimum probability:  0.00475757771297  Maximum pribability:  0.994479007933\n"
     ]
    }
   ],
   "source": [
    "min_pred_val = 1\n",
    "max_pred_val = 0\n",
    "\n",
    "for t in pred_log:\n",
    "    min_pred_val = min(min_pred_val, t[1])\n",
    "    max_pred_val = max(max_pred_val, t[1])\n",
    "print('Minimum probability: ',  min_pred_val, ' Maximum pribability: ', max_pred_val)"
   ]
  },
  {
   "cell_type": "code",
   "execution_count": null,
   "metadata": {
    "collapsed": true
   },
   "outputs": [],
   "source": []
  }
 ],
 "metadata": {
  "kernelspec": {
   "display_name": "Python 3",
   "language": "python",
   "name": "python3"
  },
  "language_info": {
   "codemirror_mode": {
    "name": "ipython",
    "version": 3
   },
   "file_extension": ".py",
   "mimetype": "text/x-python",
   "name": "python",
   "nbconvert_exporter": "python",
   "pygments_lexer": "ipython3",
   "version": "3.6.1"
  }
 },
 "nbformat": 4,
 "nbformat_minor": 2
}
